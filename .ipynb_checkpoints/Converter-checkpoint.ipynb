{
 "cells": [
  {
   "cell_type": "code",
   "execution_count": 21,
   "metadata": {},
   "outputs": [],
   "source": [
    "import re"
   ]
  },
  {
   "cell_type": "code",
   "execution_count": 33,
   "metadata": {},
   "outputs": [],
   "source": [
    "def query_preprocessor(filepath = 'test-collection/cacm.query.txt'):\n",
    "\n",
    "    with open(filepath) as f: queries = f.read()\n",
    "    queries = [l.replace('</DOCNO>', '').replace('\\n', '').replace('</DOC>', '').replace('<DOC>', '')[1:] for l in queries.split('<DOCNO>')]\n",
    "    queries = [re.sub(r'^\\d*\\s\\s', '',l.lower()) for l in queries]\n",
    "    queries = [s.lower() for s in queries]\n",
    "    with open(filepath, 'w') as f: f.write('\\n'.join(queries))"
   ]
  },
  {
   "cell_type": "code",
   "execution_count": 28,
   "metadata": {},
   "outputs": [],
   "source": [
    "query_preprocessor(filepath = 'test-collection/cacm.query.txt')"
   ]
  },
  {
   "cell_type": "code",
   "execution_count": null,
   "metadata": {},
   "outputs": [],
   "source": [
    "with open('./test-collection/cacm.query.txt') as f: \n",
    "    query_list = f.read().split('\\n')"
   ]
  },
  {
   "cell_type": "code",
   "execution_count": 36,
   "metadata": {},
   "outputs": [
    {
     "data": {
      "text/plain": [
       "['',\n",
       " 'what articles exist which deal with tss (time sharing system), anoperating system for ibm computers? ',\n",
       " 'i am interested in articles written either by prieve or udo poochprieve, b.pooch, u. ',\n",
       " 'intermediate languages used in construction of multi-targeted compilers; tcoll ',\n",
       " \"i'm interested in mechanisms for communicating between disjoint processes,possibly, but not exclusively, in a distributed environment.  i wouldrather see descriptions of complete mechanisms, with or without implementations,as opposed to theoretical work on the abstract problem.  remote procedurecalls and message-passing are examples of my interests.\",\n",
       " \"i'd like papers on design and implementation of editing interfaces,window-managers, command interpreters, etc.  the essential issues arehuman interface design, with views on improvements to user efficiency,effectiveness and satisfaction. \",\n",
       " 'interested in articles on robotics, motion planning particularly thegeometric and combinatorial aspects.  we are not interested in thedynamics of arm motion. ',\n",
       " 'i am interested in distributed algorithms - concurrent programs inwhich processes communicate and synchronize by using message passing.areas of particular interest include fault-tolerance and techniquesfor understanding the correctness of these algorithms. ',\n",
       " 'addressing schemes for resources in networks; resource addressing innetwork operating systems ',\n",
       " 'security considerations in local networks, network operating systems,and distributed systems. ',\n",
       " 'parallel languages; languages for parallel computation ',\n",
       " 'setl, very high level languages ',\n",
       " 'portable operating systems ',\n",
       " 'code optimization for space efficiency ',\n",
       " 'find all discussions of optimal implementations of sort algorithms fordatabase management applications ',\n",
       " 'find all discussions of horizontal microcode optimization with specialemphasis on optimization of loops and global optimization. ',\n",
       " 'find all descriptions of file handling in operating systems based onmultiple processes and message passing. ',\n",
       " 'optimization of intermediate and machine code ',\n",
       " 'languages and compilers for parallel processors, especially highlyhorizontal microcoded machines; code compaction ',\n",
       " 'parallel algorithms ',\n",
       " 'graph theoretic algorithms applicable to sparse matrices ',\n",
       " 'computational complexity, intractability, class-complete reductions,algorithms and efficiency ',\n",
       " 'i am interested in hidden-line and hidden-surface algorithms forcylinders, toroids, spheres, and cones.  this is a rather specializedtopic in computer graphics. ',\n",
       " 'distributed computing structures and algorithms ',\n",
       " 'applied stochastic processes ',\n",
       " 'performance evaluation and modelling of computer systems ',\n",
       " 'concurrency control mechanisms in operating systems  ',\n",
       " 'memory management aspects of operating systems ',\n",
       " 'any information on packet radio networks.  of particular interest arealgorithms for packet routing, and for dealing with changes innetwork topography.  i am not interested in the hardware used in thenetwork. ',\n",
       " 'number-theoretic algorithms, especially involving prime number series,sieves, and chinese remainder theorem. ',\n",
       " 'articles on text formatting systems, including \"what you see is what youget\" systems.  examples: t/nroff, scribe, bravo. ',\n",
       " 'i\\'d like to find articles describing the use of singular value decompositionin digital image processing.  applications include finding approximationsto the original image and restoring images that are subject to noise. anarticle on the subject is h. andrews and c. patterson \"outer productexpansions and their uses in digital image processing\", american mathematicalandrews, h.patterson, c. ',\n",
       " \"i'd like to find articles describing graph algorithms that are based onthe eigenvalue decomposition (or singular value decomposition) of theajacency matrix for the graph.  i'm especially interested in any heuristicalgorithms for graph coloring and graph isomorphism using this method. \",\n",
       " 'articles about the sensitivity of the eigenvalue decomposition of realmatrices, in particular, zero-one matrices.  i\\'m especially interested inthe separation of eigenspaces corresponding to distinct eigenvalues.articles on the subject:c. davis and w. kahn, \"the rotation of eigenvectors by a permutation:,siam j. numerical analysis, vol. 7, no. 1 (1970); g. stewart, \"errorbounds for approximate invariant subspaces of closed linear operators\",siam j. numerical analysis., vol. 8, no. 4 (1971).davis, c.kahn, w.stewart, g. ',\n",
       " 'currently interested in isolation of root of polynomial; there is an oldmore recent material.heindel, l. ',\n",
       " 'probabilistic algorithms especially those dealing with algebraic andsymbolic manipulation.  some examples:rabiin, \"probabilistic algorithm on finite field\", siamwaztch, \"probabilistic testing of polynomial identities\", siamrabin,m. ',\n",
       " 'fast algorithm for context-free language recognition or parsing',\n",
       " 'articles describing the relationship between data types and concurrency(e.g. what is the type of a process?  when is a synchronization attempt between two processes \"type correct\"?  in a message-passing system is thereany notion of the types of messages?--i.e. any way to check that the senderof the message and the receiver are both treating the bit stream as someparticular type)',\n",
       " 'what is the type of a module?\\t(i don\\'t want the entire literature onabstract data types here, but i\\'m not sure how to phrase this to avoid it.i\\'m interested in questions about how one can check that a module \"matches\"contexts in which it is used.)',\n",
       " 'what does type compatibility mean in languages that allow programmerdefined types?  (you might want to restrict this to \"extensible\" languagesthat allow definition of abstract data types or programmer-supplieddefinitions of operators like *, +.)',\n",
       " 'list all articles dealing with data types in the following languages:that are referenced frequently in papers on the above languages (e.g. catchany languages with interesting type structures that i might have missed).',\n",
       " 'theory of distributed systems and databases.  subtopics of specialinterest include reliability and fault-tolerance in distributed systems,atomicity, distributed transactions, synchronization algorithms, resource allocation; lower bounds and models for asynchronous parallelsystems.  also theory of communicating processes and protocols.        p. box 2158 yale station, new haven, conn.  06520',\n",
       " 'computer performance evaluation techniques using pattern recognitionand clustering.     la    70803',\n",
       " 'analysis and perception of shape by humans and computers.  shapedescriptions, shape recognition by computer.  two-dimensional shapes.measures of circularity.  shape matching.',\n",
       " 'texture analysis by computer.\\tdigitized texture analysis.  texturesynthesis. perception of texture.',\n",
       " 'the use of operations research models to optimize information systemperformance.  this includes fine tuning decisions such as secondary indexselection, file reorganization, and distributed databases.',\n",
       " 'the application of fuzzy subset theory to clustering and informationretrieval problems.  this includes performance evaluation and automaticindexing considerations.',\n",
       " 'the use of bayesian decision models to optimize information retrievalsystem performance.  this includes stopping rules to determine when auser should cease scanning the output of a retrieval search.',\n",
       " 'the use of computer science principles (e.g. data structures, numerical methods) in generating optimization (e.g. linear programming)algorithms.  this includes issues of the khachian (russian, ellipsoidal)algorithm and complexity of such algorithms.',\n",
       " 'the role of information retrieval in knowledge based systems(i.e., expert systems).',\n",
       " 'parallel processors in information retrieval',\n",
       " 'parallel processors and paging algorithms',\n",
       " 'modelling and simulation in agricultural ecosystems.',\n",
       " 'mathematical induction, group theory, integers modulo m,probability, binomial coefficients, binomial theorem, homomorphism,morphism, transitivity, relations, relation matrix.     syracuse university, 313 link hall, syracuse, n. 13210',\n",
       " 'semantics of programming languages, including abstract specificationsof data types, denotational semantics, and proofs of correctness.hoare, a.dijkstra, e. university of massachusetts, amherst, ma 01003',\n",
       " 'anything dealing with star height of regular languages or regularexpressions or regular events.',\n",
       " 'articles relation the algebraic theory of semigroups and monoidsto the study of automata and regular languages.',\n",
       " 'abstracts of articles:    j. backus, \"can programming be liberated from the von neumann style?               a functional style and its algebra of programs\", cacm 21    re millo, r. lipton, a. perlis, letter to acm forum, cacm 22\\t       (1979), 629-630backus, j.de millo, r.lipton, r.perlis, a.',\n",
       " \"algorithms or statistical packages for anova, regression using leastsquares or generalized linear models.  system design, capabilities,statistical formula are of interest.  student's t test, wilcoxon andsign tests, multivariate and univariate components can be included.\",\n",
       " 'dictionary construction and accessing methods for fast retrievalof words or lexical items or morphologically related information.hashing or indexing methods are usually applied to english spelling ornatural language problems.',\n",
       " 'hardware and software relating to database management systems.database packages, back end computers, special associative hardwarewith microcomputers attached to disk heads or things like rap, relational or network (codasyl) or hierarchical models, systemslike system r, ims, adabas, total, etc.',\n",
       " 'information retrieval articles by gerard salton or others about clustering,bibliographic coupling, use of citations or co-citations, the vectorspace model, boolean search methods using inverted files, feedback, etc.salton, g.',\n",
       " \"results relating parallel complexity theory (both for pram's anduniform circuits).\",\n",
       " 'algorithms for parallel computation, and especially comparisonsbetween parallel and sequential algorithms.',\n",
       " \"list all articles on el1 and ecl (el1 may be given as el/1; i don'tremember how they did it.\"]"
      ]
     },
     "execution_count": 36,
     "metadata": {},
     "output_type": "execute_result"
    }
   ],
   "source": []
  },
  {
   "cell_type": "code",
   "execution_count": null,
   "metadata": {},
   "outputs": [],
   "source": []
  }
 ],
 "metadata": {
  "kernelspec": {
   "display_name": "Python 3",
   "language": "python",
   "name": "python3"
  },
  "language_info": {
   "codemirror_mode": {
    "name": "ipython",
    "version": 3
   },
   "file_extension": ".py",
   "mimetype": "text/x-python",
   "name": "python",
   "nbconvert_exporter": "python",
   "pygments_lexer": "ipython3",
   "version": "3.6.4"
  }
 },
 "nbformat": 4,
 "nbformat_minor": 2
}
