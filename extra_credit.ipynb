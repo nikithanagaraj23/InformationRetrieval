{
 "cells": [
  {
   "cell_type": "code",
   "execution_count": 81,
   "metadata": {},
   "outputs": [],
   "source": [
    "import os\n",
    "from collections import Counter\n",
    "import nltk\n",
    "from nltk.tokenize import word_tokenize\n",
    "import glob\n",
    "import numpy as np\n",
    "import functools\n",
    "import pickle\n",
    "from tqdm import tqdm_notebook as tqdm"
   ]
  },
  {
   "cell_type": "code",
   "execution_count": 18,
   "metadata": {
    "collapsed": true
   },
   "outputs": [],
   "source": [
    "def positionIndex(word_list, docid, position_index_dict, visitedfiles, completedfiles):\n",
    "        \n",
    "        for word in word_list:\n",
    "            \n",
    "            indices = [i for i, x in enumerate(word_list) if x == word]\n",
    "            gaps = [j - i for i, j in zip(indices[:-1], indices[1:])] \n",
    "            gaps = [indices[0]]+ gaps\n",
    "            \n",
    "            print(word)\n",
    "            print(position_index_dict)\n",
    "            \n",
    "            if (position_index_dict.get(word)) != None and (docid not in completedfiles) :\n",
    "                newdata = (docid,len(gaps),gaps)\n",
    "                if not newdata in position_index_dict.get(word):\n",
    "                    position_index_dict.get(word).append((docid,len(gaps),gaps))\n",
    "\n",
    "            else:\n",
    "                if not position_index_dict.get(word):\n",
    "                    position_index_dict[word] = [(docid,len(gaps),gaps)]\n",
    "                    if docid not in visitedfiles:\n",
    "                        visitedfiles.append(docid)\n",
    "        \n",
    "        return visitedfiles, completedfiles, position_index_dict"
   ]
  },
  {
   "cell_type": "code",
   "execution_count": 39,
   "metadata": {},
   "outputs": [],
   "source": [
    "def positionIndex(word_list, docid, position_index_dict, visitedfiles, completedfiles):\n",
    "    \n",
    "    #print('\\n\\n')\n",
    "    #print(docid)\n",
    "    \n",
    "    #{Term:{Document:[occurances]}}\n",
    "    \n",
    "    \n",
    "    for word in word_list:\n",
    "        \n",
    "        indices = [i for i, x in enumerate(word_list) if x == word]\n",
    "        \n",
    "        if word in position_index_dict:\n",
    "            if docid in position_index_dict[word]:\n",
    "                position_index_dict[word][docid] = indices\n",
    "            else:\n",
    "                position_index_dict[word].update({docid: indices})\n",
    "            \n",
    "        else:\n",
    "            position_index_dict.update({word:{docid:indices}})\n",
    "\n",
    "    \n",
    "    return position_index_dict"
   ]
  },
  {
   "cell_type": "code",
   "execution_count": 130,
   "metadata": {},
   "outputs": [],
   "source": [
    "def createPositionIndex():\n",
    "    \n",
    "    position_index_dict = {}\n",
    "    visitedfiles = []\n",
    "    completedfiles = []\n",
    "    \n",
    "    for filename in tqdm(glob.glob(\"corpus/*.txt\")):\n",
    "        fo = open(filename, \"r\")\n",
    "        data = fo.read()\n",
    "        tokens = nltk.word_tokenize(data)\n",
    "        unigramlist = nltk.word_tokenize(data)\n",
    "        \n",
    "        position_index_dict = positionIndex(unigramlist,\n",
    "                                            (os.path.basename(filename).split(\".\")[0]),\n",
    "                                             position_index_dict, visitedfiles, completedfiles)\n",
    "        \n",
    "        completedfiles.append((os.path.basename(filename).split(\".\")[0]))\n",
    "        \n",
    "        #print(filename,\" done\")\n",
    "        \n",
    "    return position_index_dict\n",
    "\n",
    "\n",
    "def check_sequence(rel_docs, query_words, position_index_dict):\n",
    "        \n",
    "    check_list = []\n",
    "    \n",
    "    prev_word = query_words[0]\n",
    "    \n",
    "    for doc_id in rel_docs:\n",
    "        \n",
    "        doc_flag = True\n",
    "        \n",
    "        for word in query_words:\n",
    "             \n",
    "            if not min(position_index_dict[prev_word][doc_id]) <= max(position_index_dict[word][doc_id]):\n",
    "                \n",
    "                doc_flag = False\n",
    "\n",
    "            prev_word = word\n",
    "\n",
    "        if doc_flag: check_list.append(True)\n",
    "        else: check_list.append(False)\n",
    "        \n",
    "\n",
    "    return [doc for i, doc in enumerate(rel_docs) if check_list[i]]\n",
    "\n",
    "\n",
    "\n",
    "def exact_match(query, position_index_dict, check_seq_flag = False):\n",
    "    \n",
    "    query_words = query.split(' ')\n",
    "    return_doc_list = []\n",
    "    \n",
    "    for word in query_words:\n",
    "        \n",
    "        if word in position_index_dict:\n",
    "            \n",
    "            return_doc_list.append(set(position_index_dict[word].keys())) \n",
    "            \n",
    "    rel_docs = functools.reduce(lambda s1, s2: s1 & s2, return_doc_list)\n",
    "    \n",
    "    if check_seq_flag: \n",
    "        \n",
    "        rel_docs = check_sequence(rel_docs, query_words, position_index_dict)\n",
    "        \n",
    "    \n",
    "    return rel_docs\n",
    "\n",
    "\n",
    "\n",
    "def best_match(query, position_index_dict, check_seq_flag = False):\n",
    "    \n",
    "    query_words = query.split(' ')\n",
    "    return_doc_list  = []\n",
    "            \n",
    "    for word in query_words:\n",
    "    \n",
    "        if word in position_index_dict:\n",
    "            \n",
    "            return_doc_list.extend(position_index_dict[word].keys()) \n",
    "            \n",
    "    return set(return_doc_list)\n",
    "\n",
    "\n",
    "def check_proximity(rel_docs, query_words, position_index_dict, N = 3):\n",
    "    \n",
    "    doc_flag = True\n",
    "    \n",
    "\n",
    "    for doc in rel_docs:\n",
    "        \n",
    "        for word in query_words:\n",
    "            \n",
    "            if not min(position_index_dict[prev_word][doc_id] - position_index_dict[word][doc_id]):\n",
    "\n",
    "                position_index_dict[doc][word]\n",
    "            \n",
    "        prev_word = word\n",
    "    \n",
    "    \n",
    "    if doc_flag: check_list.append(True)\n",
    "    else: check_list.append(False)\n",
    "    \n",
    "    return \n",
    "\n",
    "\n",
    "def proximity_match(query, position_index_dict, N = 3, check_seq_flag = False):\n",
    "    \n",
    "    #Ordered best match within proximity N search: same as above but order\n",
    "    #matters and any two query terms should separated by no more than N other\n",
    "    #tokens.\n",
    "    \n",
    "    query_words = query.split(' ')\n",
    "    return_doc_list  = []\n",
    "    \n",
    "    for word in query_words:\n",
    "    \n",
    "        if word in position_index_dict:\n",
    "            return_doc_list.extend(position_index_dict[word].keys()) \n",
    "    \n",
    "    return_doc_list = list(set(return_doc_list))\n",
    "    \n",
    "    check_proximity(return_doc_list, query_words, position_index_dict, N = 3)\n",
    "    \n",
    "    return"
   ]
  },
  {
   "cell_type": "code",
   "execution_count": 115,
   "metadata": {},
   "outputs": [
    {
     "data": {
      "application/vnd.jupyter.widget-view+json": {
       "model_id": "0433e54f0ddd4f5d8acc6c4219f59c8e",
       "version_major": 2,
       "version_minor": 0
      },
      "text/plain": [
       "A Jupyter Widget"
      ]
     },
     "metadata": {},
     "output_type": "display_data"
    },
    {
     "name": "stdout",
     "output_type": "stream",
     "text": [
      "\n"
     ]
    }
   ],
   "source": [
    "position_index_dict = createPositionIndex()"
   ]
  },
  {
   "cell_type": "code",
   "execution_count": 129,
   "metadata": {
    "scrolled": true
   },
   "outputs": [
    {
     "name": "stdout",
     "output_type": "stream",
     "text": [
      "hello\n",
      "True\n",
      "world\n",
      "True\n",
      "yo\n",
      "True\n"
     ]
    },
    {
     "data": {
      "text/plain": [
       "['CACM-3206']"
      ]
     },
     "execution_count": 129,
     "metadata": {},
     "output_type": "execute_result"
    }
   ],
   "source": [
    "exact_match('hello world yo', position_index_dict, True)"
   ]
  },
  {
   "cell_type": "code",
   "execution_count": 131,
   "metadata": {},
   "outputs": [
    {
     "data": {
      "text/plain": [
       "{'CACM-1698',\n",
       " 'CACM-1769',\n",
       " 'CACM-1856',\n",
       " 'CACM-2311',\n",
       " 'CACM-2572',\n",
       " 'CACM-2957',\n",
       " 'CACM-2999',\n",
       " 'CACM-3077',\n",
       " 'CACM-3146',\n",
       " 'CACM-3205',\n",
       " 'CACM-3206'}"
      ]
     },
     "execution_count": 131,
     "metadata": {},
     "output_type": "execute_result"
    }
   ],
   "source": [
    "best_match('hello world yo', position_index_dict, True)"
   ]
  },
  {
   "cell_type": "code",
   "execution_count": null,
   "metadata": {
    "collapsed": true
   },
   "outputs": [],
   "source": []
  }
 ],
 "metadata": {
  "kernelspec": {
   "display_name": "Python 3",
   "language": "python",
   "name": "python3"
  },
  "language_info": {
   "codemirror_mode": {
    "name": "ipython",
    "version": 3
   },
   "file_extension": ".py",
   "mimetype": "text/x-python",
   "name": "python",
   "nbconvert_exporter": "python",
   "pygments_lexer": "ipython3",
   "version": "3.6.3"
  }
 },
 "nbformat": 4,
 "nbformat_minor": 2
}
