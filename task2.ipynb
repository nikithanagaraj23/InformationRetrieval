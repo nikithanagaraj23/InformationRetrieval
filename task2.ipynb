{
 "cells": [
  {
   "cell_type": "code",
   "execution_count": 167,
   "metadata": {
    "collapsed": true
   },
   "outputs": [],
   "source": [
    "import requests\n",
    "from bs4 import BeautifulSoup\n",
    "import string\n",
    "import time\n",
    "import re\n",
    "import string\n",
    "import os\n",
    "from collections import Counter,OrderedDict\n",
    "import nltk\n",
    "from nltk.tokenize import word_tokenize\n",
    "import glob\n",
    "import pickle\n",
    "import math\n",
    "import operator"
   ]
  },
  {
   "cell_type": "code",
   "execution_count": 168,
   "metadata": {
    "collapsed": true
   },
   "outputs": [],
   "source": [
    "unigram_termcount = {}\n",
    "unigram_corpus_count = 0\n",
    "path = 'corpus'\n",
    "smoothening_factor = 0.35\n",
    "number_of_docs = len(glob.glob('corpus/*.txt'))\n",
    "with open ('unigram_invertedlist_count.pkl', 'rb') as f: \n",
    "        unigram_invertedlist_count = pickle.load(f)\n",
    "with open('inverted_index.pkl', 'rb') as f:\n",
    "        inverted_index = pickle.load(f)"
   ]
  },
  {
   "cell_type": "code",
   "execution_count": 169,
   "metadata": {},
   "outputs": [],
   "source": [
    "for filename in glob.glob(\"corpus/*.txt\"):\n",
    "    fo = open(filename, \"r\")\n",
    "    data = fo.read()\n",
    "    tokens = nltk.word_tokenize(data)\n",
    "    unigramlist = nltk.word_tokenize(data)\n",
    "    unigram_termcount[os.path.basename(filename).split(\".\")[0]] = len(unigramlist)\n",
    "    unigram_corpus_count = unigram_corpus_count + len(unigramlist)\n",
    "    unigram_dict = Counter(unigramlist)\n",
    "    fo.close()"
   ]
  },
  {
   "cell_type": "code",
   "execution_count": 170,
   "metadata": {},
   "outputs": [],
   "source": [
    "\n",
    "def casefolding(data):\n",
    "    return data.lower()\n",
    "\n",
    "def punctuationHandling(data):\n",
    "    regex = r\"(?<!\\d)[.,;:*!\\\"\\'#$%&()+/<=>?@[\\]_^`~{|}∑α](?!\\d)\"\n",
    "    data = re.sub(regex, \"\", data, 0)\n",
    "    regex = r\"[;:*!\\\"\\'#$%&()+/<=>?@[\\]_^`~{|}]\"\n",
    "    data = re.sub(regex, \"\", data, 0)\n",
    "#     data = data.strip(string.punctuation)\n",
    "    return data\n",
    "\n",
    "def removeWhitespace(data):\n",
    "    data = ' '.join(data.split())\n",
    "    return data\n",
    "\n",
    "def getDocWordFreq(word,document):\n",
    "#     print(unigram_invertedlist_count.get(word))\n",
    "    value = 0\n",
    "    if unigram_invertedlist_count.get(word):\n",
    "        for val in unigram_invertedlist_count[word][1]:\n",
    "            if(val[0]==document):\n",
    "                value = val[1]\n",
    "    return value\n",
    "def getCorpusWordFreq(word):\n",
    "    if unigram_invertedlist_count.get(word):\n",
    "        return unigram_invertedlist_count[word][0]\n",
    "    else:\n",
    "        return 0\n",
    "def query_preprocessor(filepath = 'test-collection/cacm.query.txt'):\n",
    "    with open(filepath) as f: queries = f.read()\n",
    "    queries = [l.replace('</DOCNO>', '').replace('\\n', ' ').replace('</DOC>', '').replace('<DOC>', '')[1:] for l in queries.split('<DOCNO>')]\n",
    "    queries = [re.sub(r'^\\d*\\s\\s', '',l) for l in queries]\n",
    "    queries = [s.lower() for s in queries]\n",
    "    queries = [punctuationHandling(query) for query in queries]\n",
    "    queries = [removeWhitespace(query) for query in queries]\n",
    "    #with open(filepath, 'w') as f: f.write('\\n'.join(queries))\n",
    "    return queries\n",
    "all_queries = query_preprocessor()[1:]"
   ]
  },
  {
   "cell_type": "code",
   "execution_count": 171,
   "metadata": {
    "collapsed": true
   },
   "outputs": [],
   "source": [
    "def writeToFile(queryid,queryname,lmscore_dict):\n",
    "    fo = open(\"task1-bm25/\"+ \"Q\" + str(queryid) +\".txt\", \"w\")\n",
    "    for key,val in lmscore_dict.items():\n",
    "        rank = list(lmscore_dict.keys()).index(key)+1\n",
    "#         print(queryid,\"\\tQ0\\t\",key,\"\\t\",rank,\"\\t\",val,\"LMDirichlet\\n\")\n",
    "        fo.write(str(queryid)+\"\\tQ0\\t\"+str(key)+\"\\t\"+str(rank)+\"\\t\"+str(val)+\"\\t ccisneu_wordunigram_BM25\\n\")\n",
    "    fo.close()"
   ]
  },
  {
   "cell_type": "code",
   "execution_count": 172,
   "metadata": {
    "collapsed": true
   },
   "outputs": [],
   "source": [
    "def get_bm25(document,query,document_bm25_score_dict):\n",
    "    total_score = 0\n",
    "    score = 0\n",
    "    query_list = query.split(\" \")\n",
    "    \n",
    "    average_length = unigram_corpus_count / number_of_docs\n",
    "    for query_word in query_list: \n",
    "        R = 0.0\n",
    "        r = 0.0\n",
    "        #number of docs containing the term\n",
    "        n = unigram_invertedlist_count[query_word][0]\n",
    "        \n",
    "        #Total number of documents\n",
    "        N = number_of_docs\n",
    "        k1 = 1.2\n",
    "        k2 = 100\n",
    "        #freq of the word in query\n",
    "        qf = query_list.count(query_word)\n",
    "        \n",
    "        #freq of word in the doc\n",
    "        f = getDocWordFreq(query_word,document)\n",
    "        \n",
    "        #to be calculated using b= 0.75\n",
    "        b = 0.75\n",
    "        \n",
    "        K = k1*((1-b) + b*(float(unigram_termcount[document])/float(average_length)))\n",
    "        \n",
    "        smoothening = 0.5\n",
    "        \n",
    "        first_part = math.log(((r + 0.5)/(R - r + 0.5))/((n - r + 0.5)/(N - n - R + r + 0.5)))\n",
    "        second_part = ((k1 + 1)*f)/(K + f)\n",
    "        third_part = ((k2 + 1) * qf)/(k2 + qf)\n",
    "        score = first_part*second_part*third_part\n",
    "        \n",
    "        total_score += score\n",
    "    document_bm25_score_dict[document] = total_score\n",
    "    return document_bm25_score_dict"
   ]
  },
  {
   "cell_type": "code",
   "execution_count": 173,
   "metadata": {
    "collapsed": true
   },
   "outputs": [],
   "source": [
    "def populate_bm25(queryString):\n",
    "    document_bm25_score_dict = {}\n",
    "    docList = []\n",
    "    query_list = queryString.split(\" \")\n",
    "    \n",
    "    for query in query_list:\n",
    "        if unigram_invertedlist_count.get(query):\n",
    "            query_doclist = unigram_invertedlist_count[query][1]\n",
    "            for i in query_doclist:\n",
    "                docList.append(i[0])\n",
    "        else:\n",
    "            query_doclist = []\n",
    "            \n",
    "    for docid in docList:\n",
    "        document_bm25_score_dict = get_bm25(docid,queryString,document_bm25_score_dict)\n",
    "        document_bm25_score_dict = dict(sorted(document_bm25_score_dict.items(), key=operator.itemgetter(1), reverse=True)[:100])\n",
    "    return document_bm25_score_dict"
   ]
  },
  {
   "cell_type": "code",
   "execution_count": 175,
   "metadata": {},
   "outputs": [
    {
     "name": "stdout",
     "output_type": "stream",
     "text": [
      "{'CACM-2319': 25.208089861457385, 'CACM-2379': 22.11436354208018, 'CACM-1519': 21.658086017113753, 'CACM-1523': 20.438693585535642, 'CACM-1410': 20.272566903127615, 'CACM-1605': 20.25279110973632, 'CACM-2380': 20.17275445307061, 'CACM-1591': 19.671371155575276, 'CACM-1033': 19.66867997903659, 'CACM-1698': 19.14661946708638, 'CACM-1749': 19.113926855448092, 'CACM-2629': 18.692537220228665, 'CACM-1506': 18.676860226756293, 'CACM-1938': 18.576999215150295, 'CACM-2632': 18.362258249566853, 'CACM-1544': 18.342545507211913, 'CACM-3127': 18.32191103451082, 'CACM-1161': 18.11686703007412, 'CACM-2371': 17.999816661076768, 'CACM-1680': 17.811346573313667, 'CACM-2740': 17.74654363182257, 'CACM-3025': 17.651602617308413, 'CACM-3048': 17.61615480134931, 'CACM-2357': 17.58227873180795, 'CACM-1647': 17.50741771743242, 'CACM-1464': 17.486469400671375, 'CACM-1168': 17.4790245042065, 'CACM-1264': 17.437050125924394, 'CACM-0585': 17.24829454655485, 'CACM-1750': 17.033853569824924, 'CACM-2541': 16.922553047082136, 'CACM-1657': 16.75462322966667, 'CACM-2054': 16.701854046825357, 'CACM-2317': 16.643031216093085, 'CACM-2358': 16.615582557249997, 'CACM-1393': 16.52823098936422, 'CACM-0414': 16.378869913207744, 'CACM-1844': 16.29823132070636, 'CACM-1827': 15.94085889357336, 'CACM-1225': 15.898035145726038, 'CACM-2424': 15.83583531001884, 'CACM-0637': 15.732018428075296, 'CACM-0252': 15.597025199761962, 'CACM-2948': 15.59447037177779, 'CACM-2947': 15.583523334973322, 'CACM-1304': 15.571771218037384, 'CACM-0698': 15.571638003456641, 'CACM-1885': 15.527616660619373, 'CACM-2764': 15.525167356215823, 'CACM-2535': 15.498210128502627, 'CACM-0971': 15.491349144008478, 'CACM-1179': 15.473962421090528, 'CACM-1315': 15.384030784159949, 'CACM-2080': 15.353609177663639, 'CACM-1753': 15.34482380662579, 'CACM-2597': 15.285022961255653, 'CACM-2796': 15.217326847571279, 'CACM-1173': 15.196006657554122, 'CACM-1685': 15.177691349478444, 'CACM-2542': 15.094555318450753, 'CACM-1195': 15.039739369090867, 'CACM-2681': 15.033140300182806, 'CACM-3068': 15.01457026456558, 'CACM-2378': 15.007586290130368, 'CACM-1542': 15.005175680196503, 'CACM-1236': 14.971092431614062, 'CACM-2624': 14.791267302079758, 'CACM-1046': 14.788224173752996, 'CACM-2398': 14.735540458073666, 'CACM-1462': 14.694995658305036, 'CACM-2188': 14.67011392936868, 'CACM-2560': 14.663623475908297, 'CACM-1960': 14.620422147812356, 'CACM-2868': 14.599550997063819, 'CACM-2917': 14.598246964589366, 'CACM-1226': 14.597066992103075, 'CACM-1482': 14.53967114908015, 'CACM-1472': 14.49981728007286, 'CACM-1697': 14.491483967639386, 'CACM-2946': 14.455124642581122, 'CACM-2920': 14.39581994385681, 'CACM-2219': 14.393068563083691, 'CACM-3137': 14.288711851439384, 'CACM-1163': 14.266949517080535, 'CACM-1747': 14.175286676378942, 'CACM-1805': 14.114571346032351, 'CACM-0098': 14.05692762958289, 'CACM-1626': 13.965180209699094, 'CACM-2950': 13.898480620644156, 'CACM-1533': 13.893566837947446, 'CACM-2622': 13.797867539503205, 'CACM-0202': 13.724957798704661, 'CACM-2951': 13.672812099589883, 'CACM-1755': 13.61875098382692, 'CACM-2878': 13.612575592912894, 'CACM-2372': 13.533429876805794, 'CACM-2218': 13.492813571537416, 'CACM-2003': 13.47978856077767, 'CACM-1534': 13.47118263821207, 'CACM-1571': 13.466331025585689}\n"
     ]
    },
    {
     "ename": "KeyError",
     "evalue": "'udo'",
     "output_type": "error",
     "traceback": [
      "\u001b[0;31m---------------------------------------------------------------------------\u001b[0m",
      "\u001b[0;31mKeyError\u001b[0m                                  Traceback (most recent call last)",
      "\u001b[0;32m<ipython-input-175-d4bda2a03bb8>\u001b[0m in \u001b[0;36m<module>\u001b[0;34m()\u001b[0m\n\u001b[1;32m      1\u001b[0m \u001b[0;32mfor\u001b[0m \u001b[0mi\u001b[0m \u001b[0;32min\u001b[0m \u001b[0mrange\u001b[0m\u001b[0;34m(\u001b[0m\u001b[0mlen\u001b[0m\u001b[0;34m(\u001b[0m\u001b[0mall_queries\u001b[0m\u001b[0;34m)\u001b[0m\u001b[0;34m)\u001b[0m\u001b[0;34m:\u001b[0m\u001b[0;34m\u001b[0m\u001b[0m\n\u001b[0;32m----> 2\u001b[0;31m     \u001b[0mbm25_score_dict\u001b[0m \u001b[0;34m=\u001b[0m \u001b[0mpopulate_bm25\u001b[0m\u001b[0;34m(\u001b[0m\u001b[0mall_queries\u001b[0m\u001b[0;34m[\u001b[0m\u001b[0mi\u001b[0m\u001b[0;34m]\u001b[0m\u001b[0;34m)\u001b[0m\u001b[0;34m\u001b[0m\u001b[0m\n\u001b[0m\u001b[1;32m      3\u001b[0m     \u001b[0mprint\u001b[0m\u001b[0;34m(\u001b[0m\u001b[0mbm25_score_dict\u001b[0m\u001b[0;34m)\u001b[0m\u001b[0;34m\u001b[0m\u001b[0m\n\u001b[1;32m      4\u001b[0m \u001b[0;31m#     writeToFile(i+1,all_queries[i],bm25_score_dict)\u001b[0m\u001b[0;34m\u001b[0m\u001b[0;34m\u001b[0m\u001b[0m\n",
      "\u001b[0;32m<ipython-input-173-3a8bbd6e6196>\u001b[0m in \u001b[0;36mpopulate_bm25\u001b[0;34m(queryString)\u001b[0m\n\u001b[1;32m     13\u001b[0m \u001b[0;34m\u001b[0m\u001b[0m\n\u001b[1;32m     14\u001b[0m     \u001b[0;32mfor\u001b[0m \u001b[0mdocid\u001b[0m \u001b[0;32min\u001b[0m \u001b[0mdocList\u001b[0m\u001b[0;34m:\u001b[0m\u001b[0;34m\u001b[0m\u001b[0m\n\u001b[0;32m---> 15\u001b[0;31m         \u001b[0mdocument_bm25_score_dict\u001b[0m \u001b[0;34m=\u001b[0m \u001b[0mget_bm25\u001b[0m\u001b[0;34m(\u001b[0m\u001b[0mdocid\u001b[0m\u001b[0;34m,\u001b[0m\u001b[0mqueryString\u001b[0m\u001b[0;34m,\u001b[0m\u001b[0mdocument_bm25_score_dict\u001b[0m\u001b[0;34m)\u001b[0m\u001b[0;34m\u001b[0m\u001b[0m\n\u001b[0m\u001b[1;32m     16\u001b[0m         \u001b[0mdocument_bm25_score_dict\u001b[0m \u001b[0;34m=\u001b[0m \u001b[0mdict\u001b[0m\u001b[0;34m(\u001b[0m\u001b[0msorted\u001b[0m\u001b[0;34m(\u001b[0m\u001b[0mdocument_bm25_score_dict\u001b[0m\u001b[0;34m.\u001b[0m\u001b[0mitems\u001b[0m\u001b[0;34m(\u001b[0m\u001b[0;34m)\u001b[0m\u001b[0;34m,\u001b[0m \u001b[0mkey\u001b[0m\u001b[0;34m=\u001b[0m\u001b[0moperator\u001b[0m\u001b[0;34m.\u001b[0m\u001b[0mitemgetter\u001b[0m\u001b[0;34m(\u001b[0m\u001b[0;36m1\u001b[0m\u001b[0;34m)\u001b[0m\u001b[0;34m,\u001b[0m \u001b[0mreverse\u001b[0m\u001b[0;34m=\u001b[0m\u001b[0;32mTrue\u001b[0m\u001b[0;34m)\u001b[0m\u001b[0;34m[\u001b[0m\u001b[0;34m:\u001b[0m\u001b[0;36m100\u001b[0m\u001b[0;34m]\u001b[0m\u001b[0;34m)\u001b[0m\u001b[0;34m\u001b[0m\u001b[0m\n\u001b[1;32m     17\u001b[0m     \u001b[0;32mreturn\u001b[0m \u001b[0mdocument_bm25_score_dict\u001b[0m\u001b[0;34m\u001b[0m\u001b[0m\n",
      "\u001b[0;32m<ipython-input-172-ce34b179ac8f>\u001b[0m in \u001b[0;36mget_bm25\u001b[0;34m(document, query, document_bm25_score_dict)\u001b[0m\n\u001b[1;32m      9\u001b[0m         \u001b[0mr\u001b[0m \u001b[0;34m=\u001b[0m \u001b[0;36m0.0\u001b[0m\u001b[0;34m\u001b[0m\u001b[0m\n\u001b[1;32m     10\u001b[0m         \u001b[0;31m#number of docs containing the term\u001b[0m\u001b[0;34m\u001b[0m\u001b[0;34m\u001b[0m\u001b[0m\n\u001b[0;32m---> 11\u001b[0;31m         \u001b[0mn\u001b[0m \u001b[0;34m=\u001b[0m \u001b[0munigram_invertedlist_count\u001b[0m\u001b[0;34m[\u001b[0m\u001b[0mquery_word\u001b[0m\u001b[0;34m]\u001b[0m\u001b[0;34m[\u001b[0m\u001b[0;36m0\u001b[0m\u001b[0;34m]\u001b[0m\u001b[0;34m\u001b[0m\u001b[0m\n\u001b[0m\u001b[1;32m     12\u001b[0m \u001b[0;34m\u001b[0m\u001b[0m\n\u001b[1;32m     13\u001b[0m         \u001b[0;31m#Total number of documents\u001b[0m\u001b[0;34m\u001b[0m\u001b[0;34m\u001b[0m\u001b[0m\n",
      "\u001b[0;31mKeyError\u001b[0m: 'udo'"
     ]
    }
   ],
   "source": [
    "for i in range(len(all_queries)):\n",
    "    bm25_score_dict = populate_bm25(all_queries[i])\n",
    "    print(bm25_score_dict)\n",
    "#     writeToFile(i+1,all_queries[i],bm25_score_dict)"
   ]
  },
  {
   "cell_type": "code",
   "execution_count": 157,
   "metadata": {
    "collapsed": true
   },
   "outputs": [],
   "source": [
    "expanded_query_list = []"
   ]
  },
  {
   "cell_type": "code",
   "execution_count": 158,
   "metadata": {},
   "outputs": [],
   "source": [
    "def pseudo_relavance(query,bm25_score_dict):\n",
    "    k = 10\n",
    "    #Generate query vector\n",
    "    query_vector = {}\n",
    "    query_list = query.split(\" \")\n",
    "    \n",
    "    for query_word in query_list:\n",
    "        if(query_vector.get(query_word)):\n",
    "            query_vector[query_word] += 1\n",
    "        else:\n",
    "            query_vector[query_word] = 1\n",
    "            \n",
    "    for key,val in unigram_invertedlist_count.items():\n",
    "        if not query_vector.get(key):\n",
    "            query_vector[key] = 0\n",
    "    relevance_vector,relevance_vector_magnitude = generate_relevance_vector(query,bm25_score_dict,k)\n",
    "    \n",
    "    non_relevance_vector,non_relevance_vector_magnitude = generate_non_relevance_vector(query,bm25_score_dict,k)\n",
    "\n",
    "    expanded_q = query_expansion(query,query_vector,relevance_vector,relevance_vector_magnitude,\n",
    "                    non_relevance_vector,non_relevance_vector_magnitude)\n",
    "   \n",
    "    return(expanded_q)"
   ]
  },
  {
   "cell_type": "code",
   "execution_count": 159,
   "metadata": {
    "collapsed": true
   },
   "outputs": [],
   "source": [
    "def generate_relevance_vector(query,bm25_score_dict,k):\n",
    "    sorted_doc = dict(sorted(bm25_score_dict.items(), key=operator.itemgetter(1), reverse=True)[:k])\n",
    "    relevance_vector = {}\n",
    "    for key,val in sorted_doc.items():\n",
    "        with open ('corpus/'+key+'.txt', 'r') as f: \n",
    "            doc_list = f.read().split()\n",
    "            for term in doc_list:\n",
    "                if(relevance_vector.get(term)):\n",
    "                    relevance_vector[term] += 1\n",
    "                else:\n",
    "                    relevance_vector[term] = 1\n",
    "\n",
    "            for token,val in unigram_invertedlist_count.items():\n",
    "                if not relevance_vector.get(token):\n",
    "                        relevance_vector[token] = 0\n",
    "                        \n",
    "    relevance_vector_magnitude = 0\n",
    "    for key,val in relevance_vector.items():\n",
    "        relevance_vector_magnitude += float(val**2)\n",
    "    \n",
    "    relevance_vector_magnitude = math.sqrt(relevance_vector_magnitude)\n",
    "    return(relevance_vector,relevance_vector_magnitude)"
   ]
  },
  {
   "cell_type": "code",
   "execution_count": 160,
   "metadata": {
    "collapsed": true
   },
   "outputs": [],
   "source": [
    "def generate_non_relevance_vector(query,bm25_score_dict,k):\n",
    "    sorted_doc = dict(sorted(bm25_score_dict.items(), key=operator.itemgetter(1), reverse=True)[k:])\n",
    "    non_relevance_vector = {}\n",
    "    for key,val in sorted_doc.items():\n",
    "        with open ('corpus/'+key+'.txt', 'r') as f: \n",
    "            doc_list = f.read().split()\n",
    "            for term in doc_list:\n",
    "                if(non_relevance_vector.get(term)):\n",
    "                    non_relevance_vector[term] += 1\n",
    "                else:\n",
    "                    non_relevance_vector[term] = 1\n",
    "\n",
    "            for token,val in unigram_invertedlist_count.items():\n",
    "                if not non_relevance_vector.get(token):\n",
    "                        non_relevance_vector[token] = 0\n",
    "                        \n",
    "    non_relevance_vector_magnitude = 0\n",
    "    for key,val in non_relevance_vector.items():\n",
    "        non_relevance_vector_magnitude += float(val**2)\n",
    "    \n",
    "    non_relevance_vector_magnitude = math.sqrt(non_relevance_vector_magnitude)\n",
    "    return(non_relevance_vector,non_relevance_vector_magnitude)"
   ]
  },
  {
   "cell_type": "code",
   "execution_count": 161,
   "metadata": {
    "collapsed": true
   },
   "outputs": [],
   "source": [
    "def query_expansion(query,query_vector,relevance_vector,relevance_vector_magnitude,\\\n",
    "                    non_relevance_vector,non_relevance_vector_magnitude):\n",
    "    query_expansion_dict = {}\n",
    "    for term,val in unigram_invertedlist_count.items():\n",
    "        query_expansion_dict[term] = query_vector[term]+ (0.5/relevance_vector_magnitude) * relevance_vector[term] -\\\n",
    "        (0.15/non_relevance_vector_magnitude) * non_relevance_vector[term]\n",
    "    \n",
    "    query_expansion_dict = dict(sorted(query_expansion_dict.items(), key=operator.itemgetter(1), reverse=True))\n",
    "    \n",
    "    expanded_query = query\n",
    "    no_extra_query_terms = 15\n",
    "    for i in range(no_extra_query_terms):\n",
    "        term =  list(query_expansion_dict.keys())[i]\n",
    "        if term not in query:\n",
    "            expanded_query+= \" \"+term\n",
    "    return expanded_query"
   ]
  },
  {
   "cell_type": "code",
   "execution_count": 163,
   "metadata": {},
   "outputs": [
    {
     "name": "stdout",
     "output_type": "stream",
     "text": [
      "{'CACM-1519': 24.64291001264796, 'CACM-1605': 23.148162233549694, 'CACM-1410': 22.33330316789089, 'CACM-1591': 22.29077525815539, 'CACM-1033': 22.288959392145333, 'CACM-1506': 21.989576069246546, 'CACM-1161': 21.101968184738794, 'CACM-2319': 20.927837849632983, 'CACM-0585': 20.79347097377166, 'CACM-2379': 20.548433949383885, 'CACM-1698': 20.509085403312735, 'CACM-1680': 20.394312018199077, 'CACM-1938': 20.27476212484826, 'CACM-2054': 20.156604992450905, 'CACM-3048': 20.112135059644178, 'CACM-1844': 19.64595985147516, 'CACM-1264': 19.588225124500664, 'CACM-1750': 19.57764677467663, 'CACM-1523': 19.44969520614981, 'CACM-3127': 19.300844835949388, 'CACM-1544': 19.188042794803522, 'CACM-3025': 19.088333428950925, 'CACM-2371': 19.062308896129696, 'CACM-2357': 19.002872646227104, 'CACM-2380': 18.960415721057554, 'CACM-2947': 18.8593754495853, 'CACM-1168': 18.649673825895533, 'CACM-1315': 18.431842043017898, 'CACM-2535': 18.31534295256021, 'CACM-1827': 18.041805239516613, 'CACM-0637': 17.83089311847446, 'CACM-2541': 17.73120360694545, 'CACM-2764': 17.641970032738698, 'CACM-0698': 17.5890638570609, 'CACM-1657': 17.469620165199395, 'CACM-1885': 17.465527233014207, 'CACM-1647': 17.43917482294557, 'CACM-1685': 17.423344213074998, 'CACM-1236': 17.41811143229179, 'CACM-0971': 17.359133175995442, 'CACM-2629': 17.353617964954726, 'CACM-2740': 17.298578456308963, 'CACM-2948': 17.271610691857237, 'CACM-0414': 17.244737283970835, 'CACM-2542': 17.015039944728564, 'CACM-0252': 16.957436265433138, 'CACM-2424': 16.893628137452534, 'CACM-1195': 16.701252348225204, 'CACM-2681': 16.55727683081463, 'CACM-2950': 16.467928598559396, 'CACM-2622': 16.435200265343695, 'CACM-2398': 16.393794848816697, 'CACM-2219': 16.349286305755157, 'CACM-2624': 16.307750692619003, 'CACM-1226': 16.184693924139594, 'CACM-1482': 15.968916582955758, 'CACM-1697': 15.947697822356787, 'CACM-2560': 15.93533027388697, 'CACM-1805': 15.877655104496265, 'CACM-3137': 15.796080534212788, 'CACM-2951': 15.777465274873965, 'CACM-2878': 15.764448440729694, 'CACM-2201': 15.753339996804899, 'CACM-2390': 15.740783151689143, 'CACM-2188': 15.734869705600449, 'CACM-1173': 15.709836931203137, 'CACM-1304': 15.687314525688596, 'CACM-2920': 15.630064488226907, 'CACM-1179': 15.60537950406104, 'CACM-2358': 15.531731655626373, 'CACM-1341': 15.48358155417515, 'CACM-2003': 15.452701232084145, 'CACM-1163': 15.451647190933024, 'CACM-2372': 15.427106673991037, 'CACM-1534': 15.349507044224815, 'CACM-1747': 15.348768538976742, 'CACM-1472': 15.346639255614296, 'CACM-2378': 15.266074114031314, 'CACM-0696': 15.100097782140125, 'CACM-2288': 15.079637831712686, 'CACM-2946': 15.007237963347896, 'CACM-2500': 14.9563337031169, 'CACM-2632': 14.906993009547557, 'CACM-0972': 14.893072459401015, 'CACM-2917': 14.845253336100463, 'CACM-2370': 14.725970725396719, 'CACM-2153': 14.70674143141145, 'CACM-1753': 14.704672750409475, 'CACM-0202': 14.682926430685027, 'CACM-3068': 14.65174712210699, 'CACM-1542': 14.605085850737813, 'CACM-1571': 14.549373156690258, 'CACM-3089': 14.51820724600212, 'CACM-1034': 14.510295375513419, 'CACM-2536': 14.453758792917206, 'CACM-2184': 14.396141069848673, 'CACM-2344': 14.360845284736424, 'CACM-1533': 14.324764793862025, 'CACM-2796': 14.317257421260958, 'CACM-1225': 14.28622953658401}\n"
     ]
    },
    {
     "ename": "KeyError",
     "evalue": "'udo'",
     "output_type": "error",
     "traceback": [
      "\u001b[0;31m---------------------------------------------------------------------------\u001b[0m",
      "\u001b[0;31mKeyError\u001b[0m                                  Traceback (most recent call last)",
      "\u001b[0;32m<ipython-input-163-833a560df323>\u001b[0m in \u001b[0;36m<module>\u001b[0;34m()\u001b[0m\n\u001b[1;32m     10\u001b[0m \u001b[0;34m\u001b[0m\u001b[0m\n\u001b[1;32m     11\u001b[0m \u001b[0;32mfor\u001b[0m \u001b[0mi\u001b[0m \u001b[0;32min\u001b[0m \u001b[0mrange\u001b[0m\u001b[0;34m(\u001b[0m\u001b[0mlen\u001b[0m\u001b[0;34m(\u001b[0m\u001b[0mall_expanded_queries\u001b[0m\u001b[0;34m)\u001b[0m\u001b[0;34m)\u001b[0m\u001b[0;34m:\u001b[0m\u001b[0;34m\u001b[0m\u001b[0m\n\u001b[0;32m---> 12\u001b[0;31m     \u001b[0mbm25_score_dict_expanded\u001b[0m \u001b[0;34m=\u001b[0m \u001b[0mpopulate_bm25\u001b[0m\u001b[0;34m(\u001b[0m\u001b[0mall_expanded_queries\u001b[0m\u001b[0;34m[\u001b[0m\u001b[0mi\u001b[0m\u001b[0;34m]\u001b[0m\u001b[0;34m)\u001b[0m\u001b[0;34m\u001b[0m\u001b[0m\n\u001b[0m\u001b[1;32m     13\u001b[0m     \u001b[0mprint\u001b[0m\u001b[0;34m(\u001b[0m\u001b[0mbm25_score_dict_expanded\u001b[0m\u001b[0;34m)\u001b[0m\u001b[0;34m\u001b[0m\u001b[0m\n",
      "\u001b[0;32m<ipython-input-15-3a8bbd6e6196>\u001b[0m in \u001b[0;36mpopulate_bm25\u001b[0;34m(queryString)\u001b[0m\n\u001b[1;32m     13\u001b[0m \u001b[0;34m\u001b[0m\u001b[0m\n\u001b[1;32m     14\u001b[0m     \u001b[0;32mfor\u001b[0m \u001b[0mdocid\u001b[0m \u001b[0;32min\u001b[0m \u001b[0mdocList\u001b[0m\u001b[0;34m:\u001b[0m\u001b[0;34m\u001b[0m\u001b[0m\n\u001b[0;32m---> 15\u001b[0;31m         \u001b[0mdocument_bm25_score_dict\u001b[0m \u001b[0;34m=\u001b[0m \u001b[0mget_bm25\u001b[0m\u001b[0;34m(\u001b[0m\u001b[0mdocid\u001b[0m\u001b[0;34m,\u001b[0m\u001b[0mqueryString\u001b[0m\u001b[0;34m,\u001b[0m\u001b[0mdocument_bm25_score_dict\u001b[0m\u001b[0;34m)\u001b[0m\u001b[0;34m\u001b[0m\u001b[0m\n\u001b[0m\u001b[1;32m     16\u001b[0m         \u001b[0mdocument_bm25_score_dict\u001b[0m \u001b[0;34m=\u001b[0m \u001b[0mdict\u001b[0m\u001b[0;34m(\u001b[0m\u001b[0msorted\u001b[0m\u001b[0;34m(\u001b[0m\u001b[0mdocument_bm25_score_dict\u001b[0m\u001b[0;34m.\u001b[0m\u001b[0mitems\u001b[0m\u001b[0;34m(\u001b[0m\u001b[0;34m)\u001b[0m\u001b[0;34m,\u001b[0m \u001b[0mkey\u001b[0m\u001b[0;34m=\u001b[0m\u001b[0moperator\u001b[0m\u001b[0;34m.\u001b[0m\u001b[0mitemgetter\u001b[0m\u001b[0;34m(\u001b[0m\u001b[0;36m1\u001b[0m\u001b[0;34m)\u001b[0m\u001b[0;34m,\u001b[0m \u001b[0mreverse\u001b[0m\u001b[0;34m=\u001b[0m\u001b[0;32mTrue\u001b[0m\u001b[0;34m)\u001b[0m\u001b[0;34m[\u001b[0m\u001b[0;34m:\u001b[0m\u001b[0;36m100\u001b[0m\u001b[0;34m]\u001b[0m\u001b[0;34m)\u001b[0m\u001b[0;34m\u001b[0m\u001b[0m\n\u001b[1;32m     17\u001b[0m     \u001b[0;32mreturn\u001b[0m \u001b[0mdocument_bm25_score_dict\u001b[0m\u001b[0;34m\u001b[0m\u001b[0m\n",
      "\u001b[0;32m<ipython-input-117-2e3dc5e918bb>\u001b[0m in \u001b[0;36mget_bm25\u001b[0;34m(document, query, document_bm25_score_dict)\u001b[0m\n\u001b[1;32m      9\u001b[0m         \u001b[0mr\u001b[0m \u001b[0;34m=\u001b[0m \u001b[0;36m0.0\u001b[0m\u001b[0;34m\u001b[0m\u001b[0m\n\u001b[1;32m     10\u001b[0m         \u001b[0;31m#number of docs containing the term\u001b[0m\u001b[0;34m\u001b[0m\u001b[0;34m\u001b[0m\u001b[0m\n\u001b[0;32m---> 11\u001b[0;31m         \u001b[0mn\u001b[0m \u001b[0;34m=\u001b[0m \u001b[0munigram_invertedlist_count\u001b[0m\u001b[0;34m[\u001b[0m\u001b[0mquery_word\u001b[0m\u001b[0;34m]\u001b[0m\u001b[0;34m[\u001b[0m\u001b[0;36m0\u001b[0m\u001b[0;34m]\u001b[0m\u001b[0;34m\u001b[0m\u001b[0m\n\u001b[0m\u001b[1;32m     12\u001b[0m \u001b[0;34m\u001b[0m\u001b[0m\n\u001b[1;32m     13\u001b[0m         \u001b[0;31m#Total number of documents\u001b[0m\u001b[0;34m\u001b[0m\u001b[0;34m\u001b[0m\u001b[0m\n",
      "\u001b[0;31mKeyError\u001b[0m: 'udo'"
     ]
    }
   ],
   "source": [
    "def get_all_new_queries():\n",
    "    for old_query in range(len(all_queries)):\n",
    "        expanded_q = pseudo_relavance(all_queries[old_query],bm25_score_dict)\n",
    "        expanded_query_list.append(expanded_q)\n",
    "        \n",
    "    return expanded_query_list\n",
    "\n",
    "all_expanded_queries = get_all_new_queries()\n",
    "\n",
    "for i in range(len(all_expanded_queries)):\n",
    "    bm25_score_dict_expanded = populate_bm25(all_expanded_queries[i])\n",
    "    print(bm25_score_dict_expanded)"
   ]
  },
  {
   "cell_type": "code",
   "execution_count": 150,
   "metadata": {},
   "outputs": [
    {
     "data": {
      "text/plain": [
       "127"
      ]
     },
     "execution_count": 150,
     "metadata": {},
     "output_type": "execute_result"
    }
   ],
   "source": [
    "unigram_termcount['CACM-2246']"
   ]
  },
  {
   "cell_type": "code",
   "execution_count": null,
   "metadata": {
    "collapsed": true
   },
   "outputs": [],
   "source": []
  }
 ],
 "metadata": {
  "kernelspec": {
   "display_name": "Python 3",
   "language": "python",
   "name": "python3"
  },
  "language_info": {
   "codemirror_mode": {
    "name": "ipython",
    "version": 3
   },
   "file_extension": ".py",
   "mimetype": "text/x-python",
   "name": "python",
   "nbconvert_exporter": "python",
   "pygments_lexer": "ipython3",
   "version": "3.6.3"
  }
 },
 "nbformat": 4,
 "nbformat_minor": 2
}
