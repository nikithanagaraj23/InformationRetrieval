{
 "cells": [
  {
   "cell_type": "code",
   "execution_count": 1,
   "metadata": {
    "collapsed": true
   },
   "outputs": [],
   "source": [
    "import requests\n",
    "from bs4 import BeautifulSoup\n",
    "import string\n",
    "import time\n",
    "import re\n",
    "import string\n",
    "import os\n",
    "from collections import Counter,OrderedDict\n",
    "import nltk\n",
    "from nltk.tokenize import word_tokenize\n",
    "import glob\n",
    "import pickle\n",
    "import math\n",
    "import operator"
   ]
  },
  {
   "cell_type": "code",
   "execution_count": 2,
   "metadata": {
    "collapsed": true
   },
   "outputs": [],
   "source": [
    "inverted_unigram_dict = dict()\n",
    "unigram_termcount = {}\n",
    "unigram_corpus_count = 0\n",
    "path = 'corpus'\n",
    "smoothening_factor = 0.35\n",
    "number_of_docs = len(glob.glob('corpus/*.txt'))"
   ]
  },
  {
   "cell_type": "code",
   "execution_count": 3,
   "metadata": {
    "collapsed": true
   },
   "outputs": [],
   "source": [
    "def casefolding(data):\n",
    "    return data.lower()\n",
    "\n",
    "def punctuationHandling(data):\n",
    "    regex = r\"(?<!\\d)[.,;:*!\\\"\\'#$%&()+/<=>?@[\\]_^`~{|}∑α](?!\\d)\"\n",
    "    data = re.sub(regex, \"\", data, 0)\n",
    "    regex = r\"[;:*!\\\"\\'#$%&()+/<=>?@[\\]_^`~{|}]\"\n",
    "    data = re.sub(regex, \"\", data, 0)\n",
    "#     data = data.strip(string.punctuation)\n",
    "    return data\n",
    "\n",
    "def removeWhitespace(data):\n",
    "    data = ' '.join(data.split())\n",
    "    return data"
   ]
  },
  {
   "cell_type": "code",
   "execution_count": 4,
   "metadata": {
    "collapsed": true
   },
   "outputs": [],
   "source": [
    "def createIndexDict(file, ngram_dict, inverted_dict):\n",
    "    for key,value in ngram_dict.items():\n",
    "        if (inverted_dict.get(key)):\n",
    "            inverted_dict.get(key).append((os.path.basename(file).split(\".\")[0],value))\n",
    "        else:\n",
    "            inverted_dict[key] = [(os.path.basename(file).split(\".\")[0],value)]\n",
    "    return inverted_dict"
   ]
  },
  {
   "cell_type": "code",
   "execution_count": 13,
   "metadata": {
    "scrolled": true
   },
   "outputs": [
    {
     "name": "stdout",
     "output_type": "stream",
     "text": [
      "['a', 'about', 'above', 'accordingly', 'across', 'after', 'afterwards', 'again', 'against', 'all', 'almost', 'alone', 'along', 'already', 'also', 'although', 'always', 'am', 'among', 'amongst', 'an', 'and', 'another', 'any', 'anybody', 'anyhow', 'anyone', 'anything', 'anywhere', 'apart', 'are', 'around', 'as', 'aside', 'at', 'away', 'awfully', 'b', 'be', 'became', 'because', 'become', 'becomes', 'becoming', 'been', 'before', 'beforehand', 'behind', 'being', 'below', 'beside', 'besides', 'best', 'better', 'between', 'beyond', 'both', 'brief', 'but', 'by', 'c', 'can', 'cannot', 'cant', 'certain', 'co', 'consequently', 'could', 'd', 'did', 'do', 'does', 'doing', 'done', 'down', 'downwards', 'during', 'e', 'each', 'eg', 'eight', 'either', 'else', 'elsewhere', 'enough', 'et', 'etc', 'even', 'ever', 'every', 'everybody', 'everyone', 'everything', 'everywhere', 'ex', 'except', 'f', 'far', 'few', 'fifth', 'first', 'five', 'for', 'former', 'formerly', 'forth', 'four', 'from', 'further', 'furthermore', 'g', 'get', 'gets', 'go', 'gone', 'got', 'h', 'had', 'hardly', 'has', 'have', 'having', 'he', 'hence', 'her', 'here', 'hereafter', 'hereby', 'herein', 'hereupon', 'hers', 'herself', 'him', 'himself', 'his', 'hither', 'how', 'howbeit', 'however', 'i', 'ie', 'if', 'immediate', 'in', 'inasmuch', 'inc', 'indeed', 'inner', 'insofar', 'instead', 'into', 'inward', 'is', 'it', 'its', 'itself', 'j', 'just', 'k', 'keep', 'kept', 'l', 'last', 'latter', 'latterly', 'least', 'less', 'lest', 'like', 'little', 'ltd', 'm', 'many', 'may', 'me', 'meanwhile', 'might', 'more', 'moreover', 'most', 'mostly', 'much', 'must', 'my', 'myself', 'n', 'namely', 'near', 'neither', 'never', 'nevertheless', 'new', 'next', 'nine', 'no', 'nobody', 'none', 'noone', 'nor', 'not', 'nothing', 'novel', 'now', 'nowhere', 'o', 'of', 'off', 'often', 'oh', 'old', 'on', 'once', 'one', 'ones', 'only', 'onto', 'or', 'other', 'others', 'otherwise', 'ought', 'our', 'ours', 'ourselves', 'out', 'outside', 'over', 'overall', 'own', 'p', 'particular', 'particularly', 'per', 'perhaps', 'please', 'plus', 'probably', 'q', 'que', 'quite', 'r', 'rather', 'really', 'relatively', 'respectively', 'right', 's', 'said', 'same', 'second', 'secondly', 'see', 'seem', 'seemed', 'seeming', 'seems', 'self', 'selves', 'sensible', 'serious', 'seven', 'several', 'shall', 'she', 'should', 'since', 'six', 'so', 'some', 'somebody', 'somehow', 'someone', 'something', 'sometime', 'sometimes', 'somewhat', 'somewhere', 'still', 'sub', 'such', 'sup', 't', 'than', 'that', 'the', 'their', 'theirs', 'them', 'themselves', 'then', 'thence', 'there', 'thereafter', 'thereby', 'therefore', 'therein', 'thereupon', 'these', 'they', 'third', 'this', 'thorough', 'thoroughly', 'those', 'though', 'three', 'through', 'throughout', 'thru', 'thus', 'to', 'together', 'too', 'toward', 'towards', 'twice', 'two', 'u', 'under', 'until', 'unto', 'up', 'upon', 'us', 'v', 'various', 'very', 'via', 'vs', 'viz', 'w', 'was', 'we', 'well', 'went', 'were', 'what', 'whatever', 'when', 'whence', 'whenever', 'where', 'whereafter', 'whereas', 'whereby', 'wherein', 'whereupon', 'wherever', 'whether', 'which', 'while', 'whither', 'who', 'whoever', 'whole', 'whom', 'whose', 'why', 'will', 'with', 'within', 'without', 'would', 'x', 'y', 'yet', 'you', 'your', 'yours', 'yourself', 'yourselves', 'z', 'zero', '/*', 'manual', 'unix', \"programmer's\", 'file', 'files', 'used', 'name', 'specified', 'value', 'given', 'return', 'use', 'following', 'current', 'using', 'normally', 'returns', 'returned', 'causes', 'described', 'contains', 'example', 'possible', 'useful', 'available', 'associated', 'would', 'cause', 'provides', 'taken', 'unless', 'sent', 'followed', 'indicates', 'currently', 'necessary', 'specify', 'contain', 'indicate', 'appear', 'different', 'indicated', 'containing', 'gives', 'placed', 'uses', 'appropriate', 'automatically', 'ignored', 'changes', 'way', 'usually', 'allows', 'corresponding', 'specifying', '']\n"
     ]
    }
   ],
   "source": [
    "commonwords = open('test-collection/common_words', \"r\")\n",
    "commonwords = commonwords.read().split('\\n')\n",
    "print(commonwords)"
   ]
  },
  {
   "cell_type": "code",
   "execution_count": 15,
   "metadata": {
    "collapsed": true
   },
   "outputs": [],
   "source": [
    "# for filename in for file in glob.glob(\"*.jpg\")os.listdir(path):\n",
    "for filename in glob.glob(\"corpus/*.txt\"):\n",
    "#     print(filename)\n",
    "    fo = open(filename, \"r\")\n",
    "    data = fo.read()\n",
    "    tokens = nltk.word_tokenize(data)\n",
    "    unigramlist = nltk.word_tokenize(data)\n",
    "    unigramlist = [x for x in unigramlist if x not in commonwords]\n",
    "    unigram_termcount[os.path.basename(filename).split(\".\")[0]] = len(unigramlist)\n",
    "    unigram_corpus_count = unigram_corpus_count + len(unigramlist)\n",
    "    unigram_dict = Counter(unigramlist)\n",
    "    inverted_unigram_dict = createIndexDict(filename, unigram_dict, inverted_unigram_dict)\n",
    "    fo.close()"
   ]
  },
  {
   "cell_type": "code",
   "execution_count": 6,
   "metadata": {
    "collapsed": true
   },
   "outputs": [],
   "source": [
    "def getInvertedListCount(index_list):\n",
    "    invertedlist_count = {}\n",
    "    for key,val in index_list.items():\n",
    "        invertedlist_count[key] = [len(val),val]\n",
    "    return invertedlist_count"
   ]
  },
  {
   "cell_type": "code",
   "execution_count": null,
   "metadata": {
    "collapsed": true
   },
   "outputs": [],
   "source": [
    "unigram_invertedlist_count = getInvertedListCount(inverted_unigram_dict)"
   ]
  },
  {
   "cell_type": "code",
   "execution_count": 20,
   "metadata": {},
   "outputs": [],
   "source": [
    "with open('inverted_index.pkl', 'wb') as f: \n",
    "    pickle.dump(inverted_unigram_dict, f)\n",
    "    \n",
    "    "
   ]
  },
  {
   "cell_type": "code",
   "execution_count": null,
   "metadata": {
    "collapsed": true
   },
   "outputs": [],
   "source": []
  }
 ],
 "metadata": {
  "kernelspec": {
   "display_name": "Python 3",
   "language": "python",
   "name": "python3"
  },
  "language_info": {
   "codemirror_mode": {
    "name": "ipython",
    "version": 3
   },
   "file_extension": ".py",
   "mimetype": "text/x-python",
   "name": "python",
   "nbconvert_exporter": "python",
   "pygments_lexer": "ipython3",
   "version": "3.6.3"
  }
 },
 "nbformat": 4,
 "nbformat_minor": 2
}
