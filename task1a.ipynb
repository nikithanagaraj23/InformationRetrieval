{
 "cells": [
  {
   "cell_type": "code",
   "execution_count": 31,
   "metadata": {
    "collapsed": true
   },
   "outputs": [],
   "source": [
    "import requests\n",
    "from bs4 import BeautifulSoup\n",
    "import string\n",
    "import time\n",
    "import re\n",
    "import string\n",
    "import os\n",
    "from collections import Counter,OrderedDict\n",
    "import nltk\n",
    "from nltk.tokenize import word_tokenize\n",
    "import glob\n",
    "import pickle\n",
    "import math\n",
    "import operator"
   ]
  },
  {
   "cell_type": "code",
   "execution_count": 32,
   "metadata": {
    "collapsed": true
   },
   "outputs": [],
   "source": [
    "def isEnglish(s):\n",
    "    return s.translate(None, string.punctuation).isalnum()"
   ]
  },
  {
   "cell_type": "code",
   "execution_count": 43,
   "metadata": {
    "collapsed": true
   },
   "outputs": [],
   "source": [
    "visitedLinks = []\n",
    "depth = 1\n",
    "collectedLinks = []\n",
    "finalLinks = {}\n",
    "raw_html = {}\n",
    "inverted_unigram_dict = dict()\n",
    "unigram_termcount = {}\n",
    "unigram_corpus_count = 0\n",
    "path = 'corpus'\n",
    "smoothening_factor = 1500"
   ]
  },
  {
   "cell_type": "code",
   "execution_count": 34,
   "metadata": {
    "collapsed": true
   },
   "outputs": [],
   "source": [
    "def casefolding(data):\n",
    "    return data.lower()\n",
    "\n",
    "def punctuationHandling(data):\n",
    "    regex = r\"(?<!\\d)[.,;:*!\\\"\\'#$%&()+/<=>?@[\\]_^`~{|}∑α](?!\\d)\"\n",
    "    data = re.sub(regex, \"\", data, 0)\n",
    "    regex = r\"[;:*!\\\"\\'#$%&()+/<=>?@[\\]_^`~{|}]\"\n",
    "    data = re.sub(regex, \"\", data, 0)\n",
    "#     data = data.strip(string.punctuation)\n",
    "    return data\n",
    "\n",
    "def removeWhitespace(data):\n",
    "    data = ' '.join(data.split())\n",
    "    return data"
   ]
  },
  {
   "cell_type": "code",
   "execution_count": 35,
   "metadata": {
    "collapsed": true
   },
   "outputs": [],
   "source": [
    "def createCorpusFile(heading,maincontent):\n",
    "    fo = open(\"corpus/\"+str(heading)+\".txt\", \"w\")\n",
    "    fo.write(maincontent)\n",
    "    # Close opend file\n",
    "    fo.close()"
   ]
  },
  {
   "cell_type": "code",
   "execution_count": 36,
   "metadata": {
    "collapsed": true
   },
   "outputs": [],
   "source": [
    "def parseDocs():\n",
    "    for filename in glob.glob(\"test-collection/cacm/*.html\"):\n",
    "        fo = open(filename, \"r\")\n",
    "        heading = os.path.basename(filename).split(\".\")[0]\n",
    "        data = fo.read()\n",
    "        maincontent = BeautifulSoup(data, \"lxml\").text\n",
    "        maincontent = casefolding(maincontent)\n",
    "        maincontent = punctuationHandling(maincontent)\n",
    "        maincontent = removeWhitespace(maincontent)\n",
    "        createCorpusFile(heading,maincontent)"
   ]
  },
  {
   "cell_type": "code",
   "execution_count": 37,
   "metadata": {
    "collapsed": true
   },
   "outputs": [],
   "source": [
    "def removeDuplicates(mainList, fetchedList):\n",
    "    links = []\n",
    "    for i in fetchedList:\n",
    "        if i not in mainList:\n",
    "            links.append(i)\n",
    "    return links        "
   ]
  },
  {
   "cell_type": "code",
   "execution_count": 38,
   "metadata": {
    "collapsed": true
   },
   "outputs": [],
   "source": [
    "def addToResultList(totalLinkList,links,depth):\n",
    "    for i in links:\n",
    "        totalLinkList.append([link_prefix + i,depth])\n",
    "    return totalLinkList"
   ]
  },
  {
   "cell_type": "code",
   "execution_count": 39,
   "metadata": {
    "collapsed": true
   },
   "outputs": [],
   "source": [
    "def createIndexDict(file, ngram_dict, inverted_dict):\n",
    "    for key,value in ngram_dict.items():\n",
    "        if (inverted_dict.get(key)):\n",
    "            inverted_dict.get(key).append((os.path.basename(file).split(\".\")[0],value))\n",
    "        else:\n",
    "            inverted_dict[key] = [(os.path.basename(file).split(\".\")[0],value)]\n",
    "    return inverted_dict"
   ]
  },
  {
   "cell_type": "code",
   "execution_count": 40,
   "metadata": {
    "collapsed": true
   },
   "outputs": [],
   "source": [
    "parseDocs()"
   ]
  },
  {
   "cell_type": "code",
   "execution_count": 44,
   "metadata": {},
   "outputs": [],
   "source": [
    "# for filename in for file in glob.glob(\"*.jpg\")os.listdir(path):\n",
    "for filename in glob.glob(\"corpus/*.txt\"):\n",
    "#     print(filename)\n",
    "    fo = open(filename, \"r\")\n",
    "    data = fo.read()\n",
    "    tokens = nltk.word_tokenize(data)\n",
    "    unigramlist = nltk.word_tokenize(data)\n",
    "#     unigram_termcount[os.path.basename(filename).split(\".\")[0]] = len(set(unigramlist))\n",
    "#     unigram_corpus_count = unigram_corpus_count + len(set(unigramlist))\n",
    "    unigram_termcount[os.path.basename(filename).split(\".\")[0]] = len(unigramlist)\n",
    "    unigram_corpus_count = unigram_corpus_count + len(unigramlist)\n",
    "    unigram_dict = Counter(unigramlist)\n",
    "    inverted_unigram_dict = createIndexDict(filename, unigram_dict, inverted_unigram_dict)\n",
    "    fo.close()"
   ]
  },
  {
   "cell_type": "code",
   "execution_count": 45,
   "metadata": {
    "collapsed": true
   },
   "outputs": [],
   "source": [
    "def getInvertedListCount(index_list):\n",
    "    invertedlist_count = {}\n",
    "    for key,val in index_list.items():\n",
    "        invertedlist_count[key] = [len(val),val]\n",
    "    return invertedlist_count"
   ]
  },
  {
   "cell_type": "code",
   "execution_count": 46,
   "metadata": {
    "collapsed": true
   },
   "outputs": [],
   "source": [
    "unigram_invertedlist_count = getInvertedListCount(inverted_unigram_dict)"
   ]
  },
  {
   "cell_type": "code",
   "execution_count": 28,
   "metadata": {},
   "outputs": [],
   "source": []
  },
  {
   "cell_type": "code",
   "execution_count": null,
   "metadata": {
    "collapsed": true
   },
   "outputs": [],
   "source": []
  }
 ],
 "metadata": {
  "kernelspec": {
   "display_name": "Python 3",
   "language": "python",
   "name": "python3"
  },
  "language_info": {
   "codemirror_mode": {
    "name": "ipython",
    "version": 3
   },
   "file_extension": ".py",
   "mimetype": "text/x-python",
   "name": "python",
   "nbconvert_exporter": "python",
   "pygments_lexer": "ipython3",
   "version": "3.6.3"
  }
 },
 "nbformat": 4,
 "nbformat_minor": 2
}
