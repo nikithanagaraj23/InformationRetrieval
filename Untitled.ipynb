{
 "cells": [
  {
   "cell_type": "code",
   "execution_count": 3,
   "metadata": {},
   "outputs": [
    {
     "name": "stdout",
     "output_type": "stream",
     "text": [
      "Unbalanced\n"
     ]
    }
   ],
   "source": [
    "openList = [\"[\",\"{\",\"(\"]\n",
    "closeList = [\"]\",\"}\",\")\"]\n",
    "def balance(myStr):\n",
    "    stack= []\n",
    "    for i in myStr:\n",
    "        if i in openList:\n",
    "            stack.append(i)\n",
    "        elif i in closeList:\n",
    "            pos = closeList.index(i)\n",
    "            if ((len(stack) > 0) and (openList[pos] == stack[len(stack)-1])):\n",
    "                stack.pop()\n",
    "            else:\n",
    "                return \"Unbalanced\"\n",
    "    if len(stack) == 0:\n",
    "        return \"Balanced\"\n",
    "print (balance(\"{[()]({}}\") )"
   ]
  },
  {
   "cell_type": "code",
   "execution_count": null,
   "metadata": {
    "collapsed": true
   },
   "outputs": [],
   "source": []
  }
 ],
 "metadata": {
  "kernelspec": {
   "display_name": "Python 3",
   "language": "python",
   "name": "python3"
  },
  "language_info": {
   "codemirror_mode": {
    "name": "ipython",
    "version": 3
   },
   "file_extension": ".py",
   "mimetype": "text/x-python",
   "name": "python",
   "nbconvert_exporter": "python",
   "pygments_lexer": "ipython3",
   "version": "3.6.3"
  }
 },
 "nbformat": 4,
 "nbformat_minor": 2
}
